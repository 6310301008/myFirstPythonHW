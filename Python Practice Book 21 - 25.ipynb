{
 "cells": [
  {
   "cell_type": "markdown",
   "metadata": {},
   "source": [
    "# Python Practice Book 21 - 25"
   ]
  },
  {
   "cell_type": "markdown",
   "metadata": {},
   "source": [
    "#### Kittikhun Klinnarai 5 Oct. 2020"
   ]
  },
  {
   "cell_type": "markdown",
   "metadata": {},
   "source": [
    "### Problem 21. "
   ]
  },
  {
   "cell_type": "code",
   "execution_count": 2,
   "metadata": {},
   "outputs": [
    {
     "data": {
      "text/plain": [
       "12"
      ]
     },
     "execution_count": 2,
     "metadata": {},
     "output_type": "execute_result"
    }
   ],
   "source": [
    "listA = ([2,4,6])\n",
    "sum (listA)"
   ]
  },
  {
   "cell_type": "code",
   "execution_count": 3,
   "metadata": {},
   "outputs": [
    {
     "name": "stdout",
     "output_type": "stream",
     "text": [
      "12\n"
     ]
    }
   ],
   "source": [
    "sumlist = 0\n",
    "for i in listA :\n",
    "    sumlist += i\n",
    "print(sumlist)"
   ]
  },
  {
   "cell_type": "code",
   "execution_count": 4,
   "metadata": {},
   "outputs": [
    {
     "name": "stdout",
     "output_type": "stream",
     "text": [
      "<function sumlist at 0x7f9dd46212f0>\n"
     ]
    }
   ],
   "source": [
    "def sumlist (listA) :\n",
    "    sumlist = 0\n",
    "    for i in listA :\n",
    "        sumlist += i\n",
    "    return (sumlist)\n",
    "sumlist1 = sumlist(listA)\n",
    "print(sumlist)"
   ]
  },
  {
   "cell_type": "markdown",
   "metadata": {},
   "source": [
    "### "
   ]
  },
  {
   "cell_type": "markdown",
   "metadata": {},
   "source": [
    "### Problem 22."
   ]
  },
  {
   "cell_type": "code",
   "execution_count": 14,
   "metadata": {},
   "outputs": [
    {
     "name": "stdout",
     "output_type": "stream",
     "text": [
      "['hello', 'world']\n",
      "['aa', 'bb', 'cc']\n",
      "helloworld\n",
      "aabbcc\n"
     ]
    }
   ],
   "source": [
    "stringlist1 = [\"hello\",\"world\"]\n",
    "print(stringlist)\n",
    "stringlist2 = ['aa','bb','cc']\n",
    "print(stringlist2)\n",
    "\n",
    "a = stringlist1[0]\n",
    "b = stringlist2[0]\n",
    "i = 0\n",
    "for i in range (1 , len(stringlist1)) :\n",
    "    a += stringlist1[i]\n",
    "for j in range (1 , len(stringlist2)) :\n",
    "    b += stringlist2[j]\n",
    "print(a)\n",
    "print(b)\n"
   ]
  },
  {
   "cell_type": "markdown",
   "metadata": {},
   "source": [
    "### Problem 23."
   ]
  },
  {
   "cell_type": "code",
   "execution_count": 17,
   "metadata": {},
   "outputs": [
    {
     "name": "stdout",
     "output_type": "stream",
     "text": [
      "270\n"
     ]
    }
   ],
   "source": [
    "b = [ 9 , 6 , 5 ]\n",
    "def product (b) :\n",
    "    product = 1\n",
    "    for i in b :\n",
    "        product *= i\n",
    "    return (product)\n",
    "prob = product(b) \n",
    "print(prob)"
   ]
  },
  {
   "cell_type": "markdown",
   "metadata": {},
   "source": [
    "### Problem  24."
   ]
  },
  {
   "cell_type": "code",
   "execution_count": 18,
   "metadata": {},
   "outputs": [
    {
     "name": "stdout",
     "output_type": "stream",
     "text": [
      "1\n",
      "2\n",
      "3\n",
      "4\n"
     ]
    },
    {
     "data": {
      "text/plain": [
       "24"
      ]
     },
     "execution_count": 18,
     "metadata": {},
     "output_type": "execute_result"
    }
   ],
   "source": [
    "def fac(b) :\n",
    "    if b < 0 :\n",
    "        print(\"Error\")\n",
    "        return (-1)\n",
    "    elif b == 0 :\n",
    "        return (1)\n",
    "    else :\n",
    "        j = 1\n",
    "        for i in range (1 , b + 1) :\n",
    "            print(i)\n",
    "            j *= i\n",
    "        return(j)\n",
    "fac(4)"
   ]
  },
  {
   "cell_type": "markdown",
   "metadata": {},
   "source": [
    "### Problem  25."
   ]
  },
  {
   "cell_type": "code",
   "execution_count": 23,
   "metadata": {},
   "outputs": [
    {
     "data": {
      "text/plain": [
       "[4]"
      ]
     },
     "execution_count": 23,
     "metadata": {},
     "output_type": "execute_result"
    }
   ],
   "source": [
    "list1 = "
   ]
  },
  {
   "cell_type": "code",
   "execution_count": null,
   "metadata": {},
   "outputs": [],
   "source": []
  }
 ],
 "metadata": {
  "kernelspec": {
   "display_name": "Python 3",
   "language": "python",
   "name": "python3"
  },
  "language_info": {
   "codemirror_mode": {
    "name": "ipython",
    "version": 3
   },
   "file_extension": ".py",
   "mimetype": "text/x-python",
   "name": "python",
   "nbconvert_exporter": "python",
   "pygments_lexer": "ipython3",
   "version": "3.6.8"
  }
 },
 "nbformat": 4,
 "nbformat_minor": 4
}
