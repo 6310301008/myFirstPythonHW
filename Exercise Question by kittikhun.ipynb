{
 "cells": [
  {
   "cell_type": "markdown",
   "metadata": {},
   "source": [
    "## Exercise Questions"
   ]
  },
  {
   "cell_type": "markdown",
   "metadata": {},
   "source": [
    "\n",
    "#### Exercise Question 1 : Given a two list.Create a third list by picking an odd-index element from the frist list and even index element form second."
   ]
  },
  {
   "cell_type": "code",
   "execution_count": 6,
   "metadata": {},
   "outputs": [
    {
     "name": "stdout",
     "output_type": "stream",
     "text": [
      " list one\n",
      "[6, 12, 18]\n",
      "list two\n",
      "[4, 12, 20, 28]\n",
      " thord list \n",
      "[6, 12, 18, 4, 12, 20, 28]\n"
     ]
    }
   ],
   "source": [
    "list_1 = [3,6,9,12,15,18,21]\n",
    "list_2 = [4,8,12,16,20,24,28]\n",
    "list_3,list_3_1,list_3_2 = [],[],[]\n",
    "\n",
    "print(\" list one\")\n",
    "for i in range(1,len(list_1)):\n",
    "    if i % 2 == 0 :\n",
    "        list_3_1.append(list_1[i-1])\n",
    "print(list_3_1)\n",
    "    \n",
    "print(\"list two\")\n",
    "for i in range(1,len(list_2)+1):\n",
    "    if i % 2 != 0 :\n",
    "        list_3_2.append(list_2[i-1])\n",
    "print(list_3_2)\n",
    "\n",
    "print(\" thord list \")\n",
    "list_3 = [i for i in list_3_1]\n",
    "list_3 += [ i for i in list_3_2]\n",
    "print(list_3)"
   ]
  },
  {
   "cell_type": "markdown",
   "metadata": {},
   "source": [
    "#### Exercies Question 2 : given an input list removes the element at index 4 and add it to the 2nd position and also ,at the end of the list\n"
   ]
  },
  {
   "cell_type": "code",
   "execution_count": 9,
   "metadata": {},
   "outputs": [
    {
     "name": "stdout",
     "output_type": "stream",
     "text": [
      "main :  [34, 54, 67, 89, 11, 43, 94]\n",
      "removing index 5 :  [34, 54, 67, 89, 11, 94]\n",
      "Adding index 3 :  [34, 54, 67, 43, 89, 11, 94]\n",
      "Adding list :  [34, 54, 67, 43, 89, 11, 94, 43]\n"
     ]
    }
   ],
   "source": [
    "List  = [34,54,67,89,11,43,94]\n",
    "print(\"main : \",List)\n",
    "\n",
    "opn = List[5]\n",
    "List.remove(opn)\n",
    "print('removing index 5 : ',List)\n",
    "List.insert(3,opn)\n",
    "print('Adding index 3 : ',List)\n",
    "List.append(opn)\n",
    "print(\"Adding list : \",List)"
   ]
  },
  {
   "cell_type": "markdown",
   "metadata": {},
   "source": [
    "#### Exercise Question 3 : Given a list slice It into a 3 equal chunks and reverse each list\n"
   ]
  },
  {
   "cell_type": "code",
   "execution_count": 14,
   "metadata": {},
   "outputs": [
    {
     "name": "stdout",
     "output_type": "stream",
     "text": [
      "Original list []\n",
      "Chunking 1 [11, 45, 8]\n",
      "After reversion  = [8, 45, 11]\n",
      "Chunking 2 [23, 14, 12]\n",
      "After reversion  = [12, 14, 23]\n",
      "Chunking 3 [78, 45, 89]\n",
      "After reversion  = [89, 45, 78]\n"
     ]
    }
   ],
   "source": [
    "List_sp = [11,45,8,23,14,12,78,45,89]\n",
    "print(\"Original list\",sampleList)\n",
    "i,n,opn = 1,2,[]\n",
    "while List_sp != []:\n",
    "    opn =List_sp[:3]\n",
    "    List_sp = List_sp[n+1:]\n",
    "    print('Chunking',i,opn)\n",
    "    opn.reverse()\n",
    "    print('After reversion  =',opn)\n",
    "    i += 1"
   ]
  },
  {
   "cell_type": "markdown",
   "metadata": {},
   "source": [
    "#### Exercise Question 4 : Given a list iterate it and count the occurrence of each element and create a dictionary to show the count of each element"
   ]
  },
  {
   "cell_type": "code",
   "execution_count": 25,
   "metadata": {},
   "outputs": [
    {
     "name": "stdout",
     "output_type": "stream",
     "text": [
      "main list [11, 45, 8, 11, 23, 45, 23, 45, 89]\n",
      "count item {11: 2, 45: 3, 8: 1, 23: 2, 89: 1}\n"
     ]
    }
   ],
   "source": [
    "List = [11,45,8,11,23,45,23,45,89]\n",
    "print(\"main list\",List)\n",
    "dis_ex = {}\n",
    "while List != []:\n",
    "    count = [i for i in List if i == List[0]]\n",
    "    dis_ex.update({List[0]:len(count)})\n",
    "    opn = List[0]\n",
    "    for i in range(len(count)) :\n",
    "        List.remove(opn)\n",
    "        \n",
    "print(\"count item\",dis_ex)\n"
   ]
  },
  {
   "cell_type": "markdown",
   "metadata": {},
   "source": [
    "#### Exercise Question 5 : Given a list of equal size create a set such that it shows the element from both the first set"
   ]
  },
  {
   "cell_type": "code",
   "execution_count": 32,
   "metadata": {},
   "outputs": [
    {
     "name": "stdout",
     "output_type": "stream",
     "text": [
      "First_List [2, 3, 4, 5, 6, 7, 8]\n",
      "second_List [4, 9, 16, 25, 36, 49, 64]\n",
      "Return_List is {(7, 49), (2, 4), (4, 16), (8, 64), (6, 36), (3, 9), (5, 25)}\n"
     ]
    }
   ],
   "source": [
    "f_List = [2,3,4,5,6,7,8]\n",
    "s_List = [4,9,16,25,36,49,64]\n",
    "re_turn = set()\n",
    "for i in f_List :\n",
    "    if (i*i) in s_List :\n",
    "        re_turn.add(tuple([i,s_List[s_List.index(i*i)]]))\n",
    "print(\"First_List\",f_List)\n",
    "print(\"second_List\",s_List)\n",
    "print(\"Return_List is\",re_turn)"
   ]
  },
  {
   "cell_type": "markdown",
   "metadata": {},
   "source": [
    "#### Exercise Question 6 : Given a following two sets find the intersection and remove those elements from the first set"
   ]
  },
  {
   "cell_type": "code",
   "execution_count": 33,
   "metadata": {},
   "outputs": [
    {
     "name": "stdout",
     "output_type": "stream",
     "text": [
      "First_Set : 65 42 78 83 23 57 29 \n",
      "Second_Set : 67 73 43 48 83 57 29 \n",
      "Intersection is  : 83 57 29 \n",
      "First Set after removing common element : 65 42 78 23 "
     ]
    }
   ],
   "source": [
    "first_Set = {65,42,78,83,23,57,29}\n",
    "Second_Set = {67,73,43,48,83,57,29}\n",
    "opn = set()\n",
    "print(\"First_Set : \",end=\"\")\n",
    "for i in first_Set :\n",
    "    print(i,end=\" \")\n",
    "\n",
    "print(\"\\nSecond_Set : \",end=\"\")\n",
    "for i in Second_Set :\n",
    "    print(i,end=\" \")\n",
    "    \n",
    "print(\"\\nIntersection is  : \",end=\"\")\n",
    "for i in  firstSet :\n",
    "    if i in Second :\n",
    "        print(i,end=\" \")\n",
    "    else:\n",
    "        opn.add(i)\n",
    "\n",
    "print(\"\\nFirst Set after removing common element : \",end=\"\")\n",
    "for i in opn :\n",
    "    print(i,end=\" \")"
   ]
  },
  {
   "cell_type": "markdown",
   "metadata": {},
   "source": [
    "#### Exercise Question 7 : Given two sets,Checks if One Set is Subset or superset or superset of Another Set .if the subset is found delete all element from that set"
   ]
  },
  {
   "cell_type": "code",
   "execution_count": 39,
   "metadata": {},
   "outputs": [
    {
     "name": "stdout",
     "output_type": "stream",
     "text": [
      "\n",
      "First_Set  57 83 29 \n",
      "Second_Set  67 73 43 48 83 57 29 \n",
      "\n",
      "First_set_is_subset_of_second_set -  True\n",
      "second_set_is_subset_of_first_set -  False\n",
      "\n",
      "\n",
      "First_set_is_subset_of_second_set -  False\n",
      "second_set_is_subset_of_first_set -  True\n",
      "\n",
      "\n",
      "First_Set  set()\n",
      "Second_Set  67 73 43 48 83 57 29 "
     ]
    }
   ],
   "source": [
    "frist_set = {57,83,29}\n",
    "seccond_set = {67,73,43,48,83,57,29}\n",
    "\n",
    "print(\"\\nFirst_Set \",end=\" \")\n",
    "for i in frist_set :\n",
    "    print(i,end=\" \")\n",
    "    \n",
    "print(\"\\nSecond_Set \",end=\" \")\n",
    "for i in seccond_set :\n",
    "    print(i,end=\" \")\n",
    "    \n",
    "print(\"\\n\\nFirst_set_is_subset_of_second_set - \",frist_set.issubset(seccond_set))\n",
    "print(\"second_set_is_subset_of_first_set - \",seccond_set.issubset(frist_set))\n",
    "print(\"\\n\\nFirst_set_is_subset_of_second_set - \",frist_set.issuperset(seccond_set))\n",
    "print(\"second_set_is_subset_of_first_set - \",seccond_set.issuperset(frist_set))\n",
    "\n",
    "print(\"\\n\\nFirst_Set \",set())\n",
    "print(\"Second_Set \",end=\" \")\n",
    "for i in seccond_set :\n",
    "    print(i,end=\" \")"
   ]
  },
  {
   "cell_type": "markdown",
   "metadata": {},
   "source": [
    "#### Excercise Qquestion 8 : Iterate a given list and Check if a given elemant already in a dictionary as a key's value if not delete it from the list"
   ]
  },
  {
   "cell_type": "code",
   "execution_count": 45,
   "metadata": {},
   "outputs": [
    {
     "name": "stdout",
     "output_type": "stream",
     "text": [
      "Given: \n",
      "roll_Number =  [47, 64, 69, 39, 76, 83, 95, 97]\n",
      "sample_Dict =  {'jhon': 47, 'Emma': 69, 'Kelly': 76, 'Kason': 97}\n",
      "\n",
      "Expected Outcome:\n",
      "removing element from list   [47, 69, 76, 97]\n"
     ]
    }
   ],
   "source": [
    "Number_r = [47,64,69,39,76,83,95,97]\n",
    "Dict_sp = {'jhon':47,'Emma':69,'Kelly':76,'Kason':97}\n",
    "print(\"Given: \")\n",
    "print('roll_Number = ',Number_r)\n",
    "print('sample_Dict = ',Dict_sp)\n",
    "print(\"\\nExpected Outcome:\")\n",
    "opn = Dict_sp.values()\n",
    "opn2 = [47,64,69,39,76,83,95,97]\n",
    "for i in range(len(opn2)) :\n",
    "    if opn2[i] not in opn :\n",
    "        Number_r.remove(opn2[i])\n",
    "print('removing element from list  ',Number_r)"
   ]
  },
  {
   "cell_type": "markdown",
   "metadata": {},
   "source": [
    "#### Exercise Question 9 : Given a dictionary get all values from the dictionary and add it in a list but don't add duplicates"
   ]
  },
  {
   "cell_type": "code",
   "execution_count": 50,
   "metadata": {},
   "outputs": [
    {
     "name": "stdout",
     "output_type": "stream",
     "text": [
      "[47, 52, 44, 53, 54]\n"
     ]
    }
   ],
   "source": [
    "Dict_nary = {'jan':47,'feb':52,'march':47,'April':44,'May':52,'June':53,'july':54,'Aug':44,'Sept':54}\n",
    "key_new = Dict_nary.values()\n",
    "opn = []\n",
    "for i in key_new :\n",
    "    if i not in opn :\n",
    "        opn.append(i)\n",
    "print(opn)"
   ]
  },
  {
   "cell_type": "markdown",
   "metadata": {},
   "source": [
    "#### Exercise Question 10 : Remove duplicate from a list and create a tuple and find the minimum and maximum number"
   ]
  },
  {
   "cell_type": "code",
   "execution_count": 54,
   "metadata": {},
   "outputs": [
    {
     "name": "stdout",
     "output_type": "stream",
     "text": [
      "For_Ins_tance :\n",
      "Ins_tance_List =  [87, 45, 41, 65, 94, 41, 99, 94]\n",
      "Expec_ted_Outcome :\n",
      "uni_que_items =  [87, 45, 41, 65, 94, 99]\n",
      "tu_ple =  (87, 45, 41, 65, 94, 99)\n",
      "min :  41 max :  99\n"
     ]
    }
   ],
   "source": [
    "Ex_sp = [87,45,41,65,94,41,99,94]\n",
    "print(\"For_Ins_tance :\")\n",
    "print(\"Ins_tance_List = \",Ex_sp)\n",
    "opn = []\n",
    "for k in Ex_sp :\n",
    "    if k not in opn :\n",
    "        opn.append(k)\n",
    "Ex_sp = opn\n",
    "print(\"Expec_ted_Outcome :\")\n",
    "print(\"uni_que_items = \",Ex_sp)\n",
    "print(\"tu_ple = \",tuple(Ex_sp))\n",
    "print(\"min : \",min(Ex_sp),'max : ',max(Ex_sp))"
   ]
  },
  {
   "cell_type": "markdown",
   "metadata": {},
   "source": [
    "#### Kittikhun Klinnarai No.8 6310301008"
   ]
  },
  {
   "cell_type": "code",
   "execution_count": null,
   "metadata": {},
   "outputs": [],
   "source": []
  }
 ],
 "metadata": {
  "kernelspec": {
   "display_name": "Python 3",
   "language": "python",
   "name": "python3"
  },
  "language_info": {
   "codemirror_mode": {
    "name": "ipython",
    "version": 3
   },
   "file_extension": ".py",
   "mimetype": "text/x-python",
   "name": "python",
   "nbconvert_exporter": "python",
   "pygments_lexer": "ipython3",
   "version": "3.8.5"
  }
 },
 "nbformat": 4,
 "nbformat_minor": 4
}
