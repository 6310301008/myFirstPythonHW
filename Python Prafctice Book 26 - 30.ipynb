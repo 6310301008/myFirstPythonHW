{
 "cells": [
  {
   "cell_type": "markdown",
   "metadata": {},
   "source": [
    "Python Prafctice Book 26 - 30\n",
    "kittikhun klinnarai "
   ]
  },
  {
   "cell_type": "markdown",
   "metadata": {},
   "source": [
    "### Problem 26."
   ]
  },
  {
   "cell_type": "code",
   "execution_count": 7,
   "metadata": {},
   "outputs": [
    {
     "data": {
      "text/plain": [
       "'b'"
      ]
     },
     "execution_count": 7,
     "metadata": {},
     "output_type": "execute_result"
    }
   ],
   "source": [
    "def E (a , b):\n",
    "    x = b(0)\n",
    "    for e in b:\n",
    "        x = a(x, e)\n",
    "    return x\n",
    "\n",
    "def Min(l): return E (lambda x,y: x if x < y else y,l)\n",
    "def Max(l): return E (lambda x,y: x if x > y else y,l)\n",
    "\n",
    "myMin(['e','b','c','d'])"
   ]
  },
  {
   "cell_type": "markdown",
   "metadata": {},
   "source": [
    "### Problem 27."
   ]
  },
  {
   "cell_type": "code",
   "execution_count": 10,
   "metadata": {},
   "outputs": [
    {
     "data": {
      "text/plain": [
       "[5, 15, 30, 50]"
      ]
     },
     "execution_count": 10,
     "metadata": {},
     "output_type": "execute_result"
    }
   ],
   "source": [
    "def cumulative_sum (a):\n",
    "    newa = [ a [0] ]\n",
    "    for e in range( 1 , len (a) ) :\n",
    "        newa += [a[e]+newa[e-1]]\n",
    "    return newa\n",
    "\n",
    "cumulative_sum([5,10,15,20])\n",
    "# Add the numbers together. Ex. 5 , 5+10 , 15+15 , 30+20 "
   ]
  },
  {
   "cell_type": "markdown",
   "metadata": {},
   "source": [
    "### Problem 28."
   ]
  },
  {
   "cell_type": "code",
   "execution_count": 14,
   "metadata": {},
   "outputs": [
    {
     "data": {
      "text/plain": [
       "[2, 8, 48, 384]"
      ]
     },
     "execution_count": 14,
     "metadata": {},
     "output_type": "execute_result"
    }
   ],
   "source": [
    "def cumulative_product  (a) :\n",
    "    b = [a [0] ]\n",
    "    for e in range( 1 , len (a) ):\n",
    "        b += [ a [e] * b [e-1] ]\n",
    "    return b\n",
    "\n",
    "cumulative_product ( [2,4,6,8] )\n",
    "#Multiply the numbers. Ex. 2 , 2*4 , 8*6 , 48 * 8"
   ]
  },
  {
   "cell_type": "markdown",
   "metadata": {},
   "source": [
    "### Problem 29."
   ]
  },
  {
   "cell_type": "code",
   "execution_count": 18,
   "metadata": {},
   "outputs": [
    {
     "data": {
      "text/plain": [
       "[3, 2, 5, 7, 8, 9, 1]"
      ]
     },
     "execution_count": 18,
     "metadata": {},
     "output_type": "execute_result"
    }
   ],
   "source": [
    "def unique(a):\n",
    "    B = []\n",
    "    for e in range(len(a)):\n",
    "        C = False\n",
    "        for i in range(e+1,len(a)):\n",
    "            if a[e] == a[i]:\n",
    "                C= True\n",
    "                break\n",
    "        if C == False :\n",
    "            B += [a[e]]\n",
    "    return B\n",
    "\n",
    "\n",
    "unique([1, 2, 1, 3, 2, 5,5,7,7,8,9,9,1,1])\n",
    "\n",
    "#Is to take only 1 number of duplicates\n"
   ]
  },
  {
   "cell_type": "markdown",
   "metadata": {},
   "source": [
    "### Problem 30. "
   ]
  },
  {
   "cell_type": "code",
   "execution_count": 23,
   "metadata": {},
   "outputs": [
    {
     "data": {
      "text/plain": [
       "[1, 2, 6]"
      ]
     },
     "execution_count": 23,
     "metadata": {},
     "output_type": "execute_result"
    }
   ],
   "source": [
    "def dups(a):\n",
    "    B = []\n",
    "    for e in range(len(a)):\n",
    "        for i in range(e+1,len(a)):\n",
    "            if a[e] == a[i]:\n",
    "                B += [a[e]]\n",
    "    return B\n",
    "\n",
    "\n",
    "dups([1, 2, 1, 3, 2, 5  ,6, 8,9, 7 , 6])\n",
    "#Is to take the number of duplicates to write only"
   ]
  },
  {
   "cell_type": "code",
   "execution_count": null,
   "metadata": {},
   "outputs": [],
   "source": []
  }
 ],
 "metadata": {
  "kernelspec": {
   "display_name": "Python 3",
   "language": "python",
   "name": "python3"
  },
  "language_info": {
   "codemirror_mode": {
    "name": "ipython",
    "version": 3
   },
   "file_extension": ".py",
   "mimetype": "text/x-python",
   "name": "python",
   "nbconvert_exporter": "python",
   "pygments_lexer": "ipython3",
   "version": "3.7.6"
  }
 },
 "nbformat": 4,
 "nbformat_minor": 4
}
